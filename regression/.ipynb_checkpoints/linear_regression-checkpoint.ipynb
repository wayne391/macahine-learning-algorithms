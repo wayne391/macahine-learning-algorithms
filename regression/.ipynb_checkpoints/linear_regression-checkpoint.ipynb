{
 "cells": [
  {
   "cell_type": "code",
   "execution_count": 1,
   "metadata": {},
   "outputs": [],
   "source": [
    "%matplotlib inline\n",
    "import matplotlib.pyplot as plt\n",
    "from sklearn import datasets\n",
    "import numpy as np"
   ]
  },
  {
   "cell_type": "markdown",
   "metadata": {},
   "source": [
    "# Linear Regression\n",
    "\n",
    "### Contents\n",
    "**Topics**\n",
    "* Regression\n",
    "    * Simple Regression\n",
    "    * Multiple Regression\n",
    "        * PCA\n",
    "        \n",
    "* Polynomial\n",
    "    * Underfitting - Overfitting\n",
    "    * Regularization\n",
    "    \n",
    "* Feature Scaling\n",
    "\n",
    "**Coding**\n",
    "* Scikit-learn\n",
    "* Hands-on Implementation\n",
    "    * Nomal Equation\n",
    "    * Gradient Descent\n",
    "* Pytorch"
   ]
  },
  {
   "cell_type": "code",
   "execution_count": 2,
   "metadata": {},
   "outputs": [],
   "source": [
    "def load_dataset_fire_and_theft(path_datasets):\n",
    "    with open(path_datasets) as f:\n",
    "        lines = [line.strip().split('\\t')for line in f]\n",
    "    x = []\n",
    "    y = []\n",
    "\n",
    "    for i in range(1, len(lines)):\n",
    "        x.append(list(map(float, lines[i][:-1])))\n",
    "        y.append(float(lines[i][-1]))\n",
    "\n",
    "    x = np.array(x)\n",
    "    y = np.array(y)\n",
    "    return x, y\n",
    "\n",
    "def plot_result(x, y, y_, title='linear regressoin'):\n",
    "    plt.figure()\n",
    "    plt.plot(x, y, 'ro', label='Original data')\n",
    "    plt.plot(x, y_, label='Fitted line')\n",
    "    plt.xlabel('x')\n",
    "    plt.ylabel('y')\n",
    "    plt.title('scikit-learn')\n",
    "    plt.show()"
   ]
  },
  {
   "cell_type": "code",
   "execution_count": 3,
   "metadata": {},
   "outputs": [],
   "source": [
    "# dataset for simple regression\n",
    "x, y = load_dataset_fire_and_theft('datasets/fire_and_theft.txt')\n",
    "\n",
    "# dataset for multiple regression\n",
    "# boston = datasets.load_boston()\n",
    "# x = boston.data\n",
    "# y = boston.target\n",
    "# print(x.shape, y.shape)"
   ]
  },
  {
   "cell_type": "markdown",
   "metadata": {},
   "source": [
    "## Scikit-learn"
   ]
  },
  {
   "cell_type": "code",
   "execution_count": 4,
   "metadata": {
    "scrolled": true
   },
   "outputs": [
    {
     "name": "stdout",
     "output_type": "stream",
     "text": [
      "coefficient: 1.3134560049239135\n"
     ]
    },
    {
     "data": {
      "image/png": "[encoded data removed]",
      "text/plain": [
       "<Figure size 432x288 with 1 Axes>"
      ]
     },
     "metadata": {
      "needs_background": "light"
     },
     "output_type": "display_data"
    }
   ],
   "source": [
    "from sklearn import linear_model\n",
    "\n",
    "model = linear_model.LinearRegression()\n",
    "model.fit(x, y)\n",
    "y_ = model.predict(x)\n",
    "\n",
    "print('coefficient:', model.coef_[0])\n",
    "plot_result(x, y, y_, title='scikit-learn')"
   ]
  },
  {
   "cell_type": "markdown",
   "metadata": {},
   "source": [
    "## Normal Equation\n",
    "\n",
    "Normal Equation is computationally expensive when you have a very large number of features ( n features ), because you will ultimately need to take the inverse of a n x n matrix in order to solve for the parameters data.\n",
    "Compared to gradient descent:\n",
    "\n",
    "it will be reasonably efficient and will do something acceptable when you have a very large number ( millions ) of features.\n",
    "So if n is large then use gradient descent.\n",
    "\n",
    "If n is relatively small ( on the order of a hundred ~ ten thousand ), then the normal equation"
   ]
  },
  {
   "cell_type": "code",
   "execution_count": 5,
   "metadata": {},
   "outputs": [
    {
     "name": "stdout",
     "output_type": "stream",
     "text": [
      "2.1682978584887236\n"
     ]
    }
   ],
   "source": [
    "import numpy as np\n",
    "#for inverse matrix\n",
    "from numpy.linalg import inv\n",
    "\n",
    "x_n = np.squeeze(x)\n",
    "y_n = np.squeeze(y)\n",
    "\n",
    "#f orm matrix x and Y\n",
    "X = np.array([x_n]).T\n",
    "Y = (y_n[:, np.newaxis])\n",
    "#print(X.shape, Y.shape) (42, 1) (42, 1)\n",
    "\n",
    "#apply normal equation\n",
    "theta = inv(X.T.dot(X)).dot(X.T).dot(Y)\n",
    "\n",
    "print(theta[0][0])#it return theta0=3 and theta1=1"
   ]
  },
  {
   "cell_type": "markdown",
   "metadata": {},
   "source": [
    "## Gradeint Descent\n",
    "### 1. Numerical Analysis Method"
   ]
  },
  {
   "cell_type": "code",
   "execution_count": 6,
   "metadata": {},
   "outputs": [
    {
     "name": "stdout",
     "output_type": "stream",
     "text": [
      "0.1999999999990898\n",
      "[6. 8.]\n"
     ]
    }
   ],
   "source": [
    "# prerequisite\n",
    "def numerical_gradient(f, weight):\n",
    "    h = 1e-4 # 0.0001\n",
    "    grad = np.zeros_like(weight)\n",
    "    \n",
    "    for idx in range(weight.size):\n",
    "        tmp_val = weight[idx]\n",
    "        \n",
    "        # f(x+h)\n",
    "        weight[idx] = tmp_val + h\n",
    "        fxh1 = f(weight) \n",
    "        \n",
    "        # f(x-h)\n",
    "        weight[idx] = tmp_val - h \n",
    "        fxh2 = f(weight) \n",
    "        grad[idx] = (fxh1 - fxh2) / (2*h)\n",
    "        weight[idx] = tmp_val\n",
    "        \n",
    "    return grad\n",
    "\n",
    "def numerical_diff(func, x):\n",
    "    '''\n",
    "    numerical differentiation\n",
    "    '''\n",
    "    h = 1e-4\n",
    "    return (func(x+h) - func(x-h)) / (2*h)\n",
    "\n",
    "# 0.01x^2 + 0.1x  \n",
    "func1 = lambda x: 0.01 * (x**2) + 0.1 * x\n",
    "dy = numerical_diff(func1, 5)\n",
    "print(dy)\n",
    "\n",
    "# x0^2 + x1^2\n",
    "func2 = lambda x: (x[0]**2) +(x[1]**2) \n",
    "dy = numerical_gradient(func2, np.array([3.0, 4.0]))\n",
    "print(dy)"
   ]
  },
  {
   "cell_type": "code",
   "execution_count": 10,
   "metadata": {},
   "outputs": [
    {
     "name": "stdout",
     "output_type": "stream",
     "text": [
      "Epoch [40/400], Loss: 447.4378, Gradient: -166.7292, theta: [[0.863495]]\n",
      "Epoch [80/400], Loss: 310.4150, Gradient: -100.3300, theta: [[1.38310698]]\n",
      "Epoch [120/400], Loss: 260.7963, Gradient: -60.3740, theta: [[1.69578582]]\n",
      "Epoch [160/400], Loss: 242.8280, Gradient: -36.3303, theta: [[1.88394171]]\n",
      "Epoch [200/400], Loss: 236.3209, Gradient: -21.8620, theta: [[1.99716536]]\n",
      "Epoch [240/400], Loss: 233.9643, Gradient: -13.1555, theta: [[2.0652982]]\n",
      "Epoch [280/400], Loss: 233.1108, Gradient: -7.9164, theta: [[2.10629744]]\n",
      "Epoch [320/400], Loss: 232.8016, Gradient: -4.7637, theta: [[2.13096892]]\n",
      "Epoch [360/400], Loss: 232.6895, Gradient: -2.8666, theta: [[2.14581509]]\n",
      "Epoch [400/400], Loss: 232.6489, Gradient: -1.7250, theta: [[2.15474884]]\n",
      "coefficient: [[2.15474884]]\n"
     ]
    },
    {
     "data": {
      "image/png": "[encoded data removed]",
      "text/plain": [
       "<Figure size 432x288 with 1 Axes>"
      ]
     },
     "metadata": {
      "needs_background": "light"
     },
     "output_type": "display_data"
    }
   ],
   "source": [
    "num_epochs = 400\n",
    "learning_rate = 0.0001\n",
    "\n",
    "theta = np.zeros((1, 1))\n",
    "m = len(x)\n",
    "\n",
    "def regression(theta):\n",
    "    h = np.matmul(x, theta) \n",
    "    error = h - y[:, np.newaxis]\n",
    "    loss = error.T.dot(error)/(2*m)\n",
    "    return loss\n",
    "\n",
    "for epoch in range(num_epochs):\n",
    "    grad = numerical_gradient(regression, theta)\n",
    "    gradient = numerical_gradient(regression, theta)\n",
    "    theta = theta - learning_rate * gradient\n",
    "    if (epoch+1) % 40 == 0:\n",
    "        print ('Epoch [{}/{}], Loss: {:.4f}, Gradient: {:.4f}, theta: {}'.\\\n",
    "               format(epoch+1, num_epochs, regression(theta)[0][0], gradient[0][0], theta))\n",
    "        print(' > theta:', )\n",
    "print('coefficient:', theta)\n",
    "y_ = np.matmul(x, theta) \n",
    "plot_result(x, y, y_, title='gradient descent')"
   ]
  },
  {
   "cell_type": "markdown",
   "metadata": {},
   "source": [
    "### 2. Differentiation Method"
   ]
  },
  {
   "cell_type": "code",
   "execution_count": null,
   "metadata": {},
   "outputs": [],
   "source": [
    "# hyper-parameter for training\n",
    "num_epochs = 200\n",
    "learning_rate = 0.0003\n",
    "\n",
    "theta = np.zeros((1, 1))\n",
    "\n",
    "m = len(x)\n",
    "\n",
    "for epoch in range(num_epochs):\n",
    "    h = np.matmul(x, theta) \n",
    "    error = h - y[:, np.newaxis]\n",
    "    loss = error.T.dot(error)/2*m\n",
    "    gradient =  x.T.dot(error) / m\n",
    "    theta = theta - learning_rate * gradient\n",
    "    if (epoch+1) % 20 == 0:\n",
    "        print ('Epoch [{}/{}], Loss: {:.4f}, Gradient: {:.4f}, theta: {}'\\\n",
    "               .format(epoch+1, num_epochs, loss[0][0],  gradient[0][0], theta))\n",
    "\n",
    "\n",
    "print('coefficient:', theta)\n",
    "y_ = np.matmul(x, theta) \n",
    "plot_result(x, y, y_, title='gradient descent')"
   ]
  },
  {
   "cell_type": "code",
   "execution_count": null,
   "metadata": {},
   "outputs": [],
   "source": [
    "# enumerate weights\n",
    "theta_list = np.linspace(0,5, 100)\n",
    "loss_list = []\n",
    "for theta in theta_list:  \n",
    "    h = np.matmul(x, np.array([[theta]]))\n",
    "    error = h - y[:, np.newaxis]\n",
    "    loss = error.T.dot(error)/2*m\n",
    "    loss_list.append(loss[0][0])\n",
    "    \n",
    "# plot\n",
    "loc, val = np.argmin(loss_list), np.min(loss_list)\n",
    "fig = plt.figure()\n",
    "plt.plot(theta_list, loss_list)\n",
    "plt.plot([theta_list[loc]], [val], marker='o', markersize=3, color=\"red\")\n",
    "plt.text(theta_list[loc], val+1e5, str(val))"
   ]
  },
  {
   "cell_type": "markdown",
   "metadata": {},
   "source": [
    "## Pytorch"
   ]
  },
  {
   "cell_type": "code",
   "execution_count": null,
   "metadata": {},
   "outputs": [],
   "source": [
    "import torch\n",
    "import torch.nn as nn\n",
    "\n",
    "# hyper-parameter for training\n",
    "num_epochs = 200\n",
    "learning_rate = 0.0001\n",
    "\n",
    "# Linear regression model\n",
    "input_size = 1\n",
    "output_size = 1\n",
    "model = nn.Linear(input_size, output_size, bias=False)\n",
    "\n",
    "# Loss and optimizer\n",
    "criterion = nn.MSELoss()\n",
    "optimizer = torch.optim.SGD(model.parameters(), lr=learning_rate)  \n",
    "\n",
    "# Train the model\n",
    "for epoch in range(num_epochs):\n",
    "    # Convert numpy arrays to torch tensors\n",
    "    inputs = torch.FloatTensor(x)\n",
    "    targets = torch.FloatTensor(y)\n",
    "\n",
    "    # Forward pass\n",
    "    outputs = model(inputs)\n",
    "    loss = criterion(outputs, targets.unsqueeze(-1))\n",
    "    \n",
    "    # Backward and optimize\n",
    "    optimizer.zero_grad()\n",
    "    loss.backward()\n",
    "    optimizer.step()\n",
    "    \n",
    "    if (epoch+1) % 20 == 0:\n",
    "        print ('Epoch [{}/{}], Loss: {:.4f}, Gradient: {:.4f}'.\\\n",
    "               format(epoch+1, num_epochs, loss.item(), model.weight.grad.item()))\n",
    "\n",
    "# Plot the graph\n",
    "y_ = model(torch.FloatTensor(x)).detach().numpy()\n",
    "print('coefficient:', model.weight.detach().item())\n",
    "plot_result(x, y, y_, title='pytorch')"
   ]
  }
 ],
 "metadata": {
  "kernelspec": {
   "display_name": "Python 3",
   "language": "python",
   "name": "python3"
  },
  "language_info": {
   "codemirror_mode": {
    "name": "ipython",
    "version": 3
   },
   "file_extension": ".py",
   "mimetype": "text/x-python",
   "name": "python",
   "nbconvert_exporter": "python",
   "pygments_lexer": "ipython3",
   "version": "3.7.3"
  }
 },
 "nbformat": 4,
 "nbformat_minor": 2
}
